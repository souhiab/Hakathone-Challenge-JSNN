{
  "nbformat": 4,
  "nbformat_minor": 0,
  "metadata": {
    "colab": {
      "provenance": [],
      "collapsed_sections": [],
      "authorship_tag": "ABX9TyOD5MBlDR81dm6XRGG7cpnj",
      "include_colab_link": true
    },
    "kernelspec": {
      "name": "python3",
      "display_name": "Python 3"
    },
    "language_info": {
      "name": "python"
    }
  },
  "cells": [
    {
      "cell_type": "markdown",
      "metadata": {
        "id": "view-in-github",
        "colab_type": "text"
      },
      "source": [
        "<a href=\"https://colab.research.google.com/github/souhiab/Hakathone-Challenge-JSNN/blob/main/hacathon_challenge_JSNN_.ipynb\" target=\"_parent\"><img src=\"https://colab.research.google.com/assets/colab-badge.svg\" alt=\"Open In Colab\"/></a>"
      ]
    },
    {
      "cell_type": "code",
      "source": [
        "pip install  qiskit"
      ],
      "metadata": {
        "colab": {
          "base_uri": "https://localhost:8080/"
        },
        "id": "nAc5Rp1Bu8hJ",
        "outputId": "bd74cb5e-285c-4c6b-d984-26ce4092d052"
      },
      "execution_count": null,
      "outputs": [
        {
          "output_type": "stream",
          "name": "stdout",
          "text": [
            "Looking in indexes: https://pypi.org/simple, https://us-python.pkg.dev/colab-wheels/public/simple/\n",
            "Requirement already satisfied: qiskit in /usr/local/lib/python3.7/dist-packages (0.39.2)\n",
            "Requirement already satisfied: qiskit-aer==0.11.1 in /usr/local/lib/python3.7/dist-packages (from qiskit) (0.11.1)\n",
            "Requirement already satisfied: qiskit-ibmq-provider==0.19.2 in /usr/local/lib/python3.7/dist-packages (from qiskit) (0.19.2)\n",
            "Requirement already satisfied: qiskit-terra==0.22.2 in /usr/local/lib/python3.7/dist-packages (from qiskit) (0.22.2)\n",
            "Requirement already satisfied: numpy>=1.16.3 in /usr/local/lib/python3.7/dist-packages (from qiskit-aer==0.11.1->qiskit) (1.21.6)\n",
            "Requirement already satisfied: scipy>=1.0 in /usr/local/lib/python3.7/dist-packages (from qiskit-aer==0.11.1->qiskit) (1.7.3)\n",
            "Requirement already satisfied: requests>=2.19 in /usr/local/lib/python3.7/dist-packages (from qiskit-ibmq-provider==0.19.2->qiskit) (2.23.0)\n",
            "Requirement already satisfied: requests-ntlm>=1.1.0 in /usr/local/lib/python3.7/dist-packages (from qiskit-ibmq-provider==0.19.2->qiskit) (1.1.0)\n",
            "Requirement already satisfied: python-dateutil>=2.8.0 in /usr/local/lib/python3.7/dist-packages (from qiskit-ibmq-provider==0.19.2->qiskit) (2.8.2)\n",
            "Requirement already satisfied: urllib3>=1.21.1 in /usr/local/lib/python3.7/dist-packages (from qiskit-ibmq-provider==0.19.2->qiskit) (1.24.3)\n",
            "Requirement already satisfied: websocket-client>=1.0.1 in /usr/local/lib/python3.7/dist-packages (from qiskit-ibmq-provider==0.19.2->qiskit) (1.4.2)\n",
            "Requirement already satisfied: websockets>=10.0 in /usr/local/lib/python3.7/dist-packages (from qiskit-ibmq-provider==0.19.2->qiskit) (10.4)\n",
            "Requirement already satisfied: sympy>=1.3 in /usr/local/lib/python3.7/dist-packages (from qiskit-terra==0.22.2->qiskit) (1.7.1)\n",
            "Requirement already satisfied: psutil>=5 in /usr/local/lib/python3.7/dist-packages (from qiskit-terra==0.22.2->qiskit) (5.4.8)\n",
            "Requirement already satisfied: stevedore>=3.0.0 in /usr/local/lib/python3.7/dist-packages (from qiskit-terra==0.22.2->qiskit) (3.5.2)\n",
            "Requirement already satisfied: symengine>=0.9 in /usr/local/lib/python3.7/dist-packages (from qiskit-terra==0.22.2->qiskit) (0.9.2)\n",
            "Requirement already satisfied: shared-memory38 in /usr/local/lib/python3.7/dist-packages (from qiskit-terra==0.22.2->qiskit) (0.1.2)\n",
            "Requirement already satisfied: retworkx>=0.11.0 in /usr/local/lib/python3.7/dist-packages (from qiskit-terra==0.22.2->qiskit) (0.12.0)\n",
            "Requirement already satisfied: tweedledum<2.0,>=1.1 in /usr/local/lib/python3.7/dist-packages (from qiskit-terra==0.22.2->qiskit) (1.1.1)\n",
            "Requirement already satisfied: typing-extensions in /usr/local/lib/python3.7/dist-packages (from qiskit-terra==0.22.2->qiskit) (4.1.1)\n",
            "Requirement already satisfied: importlib-metadata<5.0 in /usr/local/lib/python3.7/dist-packages (from qiskit-terra==0.22.2->qiskit) (4.13.0)\n",
            "Requirement already satisfied: dill>=0.3 in /usr/local/lib/python3.7/dist-packages (from qiskit-terra==0.22.2->qiskit) (0.3.6)\n",
            "Requirement already satisfied: ply>=3.10 in /usr/local/lib/python3.7/dist-packages (from qiskit-terra==0.22.2->qiskit) (3.11)\n",
            "Requirement already satisfied: zipp>=0.5 in /usr/local/lib/python3.7/dist-packages (from importlib-metadata<5.0->qiskit-terra==0.22.2->qiskit) (3.10.0)\n",
            "Requirement already satisfied: six>=1.5 in /usr/local/lib/python3.7/dist-packages (from python-dateutil>=2.8.0->qiskit-ibmq-provider==0.19.2->qiskit) (1.15.0)\n",
            "Requirement already satisfied: certifi>=2017.4.17 in /usr/local/lib/python3.7/dist-packages (from requests>=2.19->qiskit-ibmq-provider==0.19.2->qiskit) (2022.9.24)\n",
            "Requirement already satisfied: idna<3,>=2.5 in /usr/local/lib/python3.7/dist-packages (from requests>=2.19->qiskit-ibmq-provider==0.19.2->qiskit) (2.10)\n",
            "Requirement already satisfied: chardet<4,>=3.0.2 in /usr/local/lib/python3.7/dist-packages (from requests>=2.19->qiskit-ibmq-provider==0.19.2->qiskit) (3.0.4)\n",
            "Requirement already satisfied: cryptography>=1.3 in /usr/local/lib/python3.7/dist-packages (from requests-ntlm>=1.1.0->qiskit-ibmq-provider==0.19.2->qiskit) (38.0.3)\n",
            "Requirement already satisfied: ntlm-auth>=1.0.2 in /usr/local/lib/python3.7/dist-packages (from requests-ntlm>=1.1.0->qiskit-ibmq-provider==0.19.2->qiskit) (1.5.0)\n",
            "Requirement already satisfied: cffi>=1.12 in /usr/local/lib/python3.7/dist-packages (from cryptography>=1.3->requests-ntlm>=1.1.0->qiskit-ibmq-provider==0.19.2->qiskit) (1.15.1)\n",
            "Requirement already satisfied: pycparser in /usr/local/lib/python3.7/dist-packages (from cffi>=1.12->cryptography>=1.3->requests-ntlm>=1.1.0->qiskit-ibmq-provider==0.19.2->qiskit) (2.21)\n",
            "Requirement already satisfied: rustworkx==0.12.0 in /usr/local/lib/python3.7/dist-packages (from retworkx>=0.11.0->qiskit-terra==0.22.2->qiskit) (0.12.0)\n",
            "Requirement already satisfied: pbr!=2.1.0,>=2.0.0 in /usr/local/lib/python3.7/dist-packages (from stevedore>=3.0.0->qiskit-terra==0.22.2->qiskit) (5.11.0)\n",
            "Requirement already satisfied: mpmath>=0.19 in /usr/local/lib/python3.7/dist-packages (from sympy>=1.3->qiskit-terra==0.22.2->qiskit) (1.2.1)\n"
          ]
        }
      ]
    },
    {
      "cell_type": "code",
      "execution_count": null,
      "metadata": {
        "id": "x2JIhGhou0nS",
        "colab": {
          "base_uri": "https://localhost:8080/"
        },
        "outputId": "55c2bb05-60cd-453e-c781-19a11b8a0a1c"
      },
      "outputs": [
        {
          "output_type": "stream",
          "name": "stdout",
          "text": [
            "dict_keys(['data', 'target', 'frame', 'target_names', 'DESCR', 'feature_names', 'filename', 'data_module'])\n"
          ]
        }
      ],
      "source": [
        "##data importation \n",
        "#pacages importes \n",
        "\n",
        "from sklearn.datasets import make_blobs\n",
        "from sklearn.preprocessing import StandardScaler, MinMaxScaler\n",
        "\n",
        "\n",
        "\n",
        "# my aclual cancer data \n",
        "from sklearn.datasets import load_breast_cancer\n",
        "cancer = load_breast_cancer()\n",
        "print(cancer.keys())\n",
        "\n",
        "\n",
        "\n",
        "# example dataset\n",
        "#features, labels = make_blobs(n_samples=20, n_features=2, centers=2, random_state=3, shuffle=True)\n"
      ]
    },
    {
      "cell_type": "code",
      "source": [
        "from sklearn.model_selection import train_test_split\n",
        "from sklearn.preprocessing import MinMaxScaler\n",
        "import numpy as np\n",
        "import scipy\n",
        "from scipy.linalg import expm\n",
        "import matplotlib.pyplot as plt\n",
        "from mpl_toolkits.mplot3d import Axes3D\n",
        "from sklearn import datasets\n",
        "from sklearn.model_selection import train_test_split\n",
        "from sklearn.preprocessing import StandardScaler, MinMaxScaler\n",
        "from sklearn.decomposition import PCA\n",
        "import matplotlib.pyplot as plt\n",
        "\n",
        "#features = MinMaxScaler(feature_range=(0, np.pi)).fit_transform(features)\n",
        "\n",
        "\n",
        "# To find if the classifier is accurate, a common strategy is\n",
        "# to divide the dataset into a training set and a test set.\n",
        "# Here the data is divided into 70% training, 25% testing.\n",
        "train_features, test_features, train_labels, test_labels  = train_test_split(cancer.data, cancer.target, test_size=0.25, random_state=109)\n",
        "\n",
        "#the mutch with this code X_train, X_test, Y_train, Y_test\n",
        "\n",
        "\n",
        "\n",
        "# Now the dataset's features will be standardized\n",
        "# to fit a normal distribution.\n",
        "scaler = StandardScaler().fit(train_features)\n",
        "train_features = scaler.transform(train_features)\n",
        "test_features = scaler.transform(test_features)\n",
        "\n",
        "#print(train_features.shape)\n",
        "\n",
        "# To be able to use this data with the given\n",
        "# number of qubits, the data must be broken down from\n",
        "# 30 dimensions to `n` dimensions.\n",
        "# This is done with Principal Component Analysis (PCA),\n",
        "# which finds patterns while keeping variation.\n",
        "\n",
        "n = 2 # number of principal components kept #the futur application we wanaa aplay for more qubites and trazin the algorithem to get more performance \n",
        "\n",
        "pca = PCA(n_components = n).fit(train_features)\n",
        "\n",
        "#PCA(n_components=n).fit(train_features)\n",
        "\n",
        "train_features = pca.transform(train_features)\n",
        "test_features = pca.transform(test_features)\n",
        "\n",
        "#print(train_features.shape)\n",
        "\n",
        "#print(train_features)\n",
        "\n",
        "\n",
        "\n",
        "# The last step in the data processing is\n",
        "# to scale the data to be between -1 and 1\n",
        "\n",
        "\n",
        "#ploting my figures to see \n",
        "\n",
        "pii= np.pi\n",
        "samples = np.append(train_features, test_features, axis=0)\n",
        "print(samples.shape)\n",
        "\n",
        "\n",
        "\n",
        "minmax_scale = MinMaxScaler((-1, 1)).fit(samples)\n",
        "#minmax_scale = MinMaxScaler(-1, 1).fit(samples)\n",
        "# will be changed to 0, np.pi   ((((-1, 1    #change for 2 (delite )  #(0, 2*np.pi)\n",
        "train_features = minmax_scale.transform(train_features)\n",
        "test_features = minmax_scale.transform(test_features)\n",
        "\n",
        "\n",
        "\n",
        "# Now some sample should be picked to train the model from\n",
        "#training_input = {key: (X_train[Y_train == k, :])[:training_size] for k, key in enumerate(class_labels)}\n",
        "#test_input = {key: (X_train[Y_train == k, :])[training_size:(training_size+test_size)] for k, key in enumerate(class_labels)}\n",
        "\n",
        "#ty_label = train_features\n",
        "#print(ty_label.shape)\n",
        "#ty_label.extend(test_features)\n",
        "\n",
        "ty_label = np.concatenate((train_features, test_features))\n",
        "print(ty_label.shape)\n",
        "\n",
        "plt.figure(figsize=(8,6))\n",
        "plt.scatter(ty_label[:,0],ty_label[:,1],c=cancer['target']) \n",
        "plt.xlabel('first principle componenet ')\n",
        "plt.xlabel('second principle componenet')\n",
        " \n",
        "\n",
        "\n",
        "#train_features, test_features, train_labels, test_labels = train_test_split(\n",
        " #   features, labels, train_size=15, shuffle=False)"
      ],
      "metadata": {
        "id": "nVQBIE9Lu5qm",
        "colab": {
          "base_uri": "https://localhost:8080/",
          "height": 443
        },
        "outputId": "34c31ae5-8a92-4d2e-dee7-c3b68be9aec4"
      },
      "execution_count": null,
      "outputs": [
        {
          "output_type": "stream",
          "name": "stdout",
          "text": [
            "(569, 2)\n",
            "(569, 2)\n"
          ]
        },
        {
          "output_type": "execute_result",
          "data": {
            "text/plain": [
              "Text(0.5, 0, 'second principle componenet')"
            ]
          },
          "metadata": {},
          "execution_count": 9
        },
        {
          "output_type": "display_data",
          "data": {
            "text/plain": [
              "<Figure size 576x432 with 1 Axes>"
            ],
            "image/png": "[encoded data removed]"
          },
          "metadata": {
            "needs_background": "light"
          }
        }
      ]
    },
    {
      "cell_type": "code",
      "source": [
        "pip install qiskit[machine-learning]"
      ],
      "metadata": {
        "colab": {
          "base_uri": "https://localhost:8080/"
        },
        "id": "LQ378Ne_vON4",
        "outputId": "5d868724-a4ff-4136-fd20-e7627a3e41bf"
      },
      "execution_count": null,
      "outputs": [
        {
          "output_type": "stream",
          "name": "stdout",
          "text": [
            "Looking in indexes: https://pypi.org/simple, https://us-python.pkg.dev/colab-wheels/public/simple/\n",
            "Requirement already satisfied: qiskit[machine-learning] in /usr/local/lib/python3.7/dist-packages (0.39.2)\n",
            "Requirement already satisfied: qiskit-aer==0.11.1 in /usr/local/lib/python3.7/dist-packages (from qiskit[machine-learning]) (0.11.1)\n",
            "Requirement already satisfied: qiskit-terra==0.22.2 in /usr/local/lib/python3.7/dist-packages (from qiskit[machine-learning]) (0.22.2)\n",
            "Requirement already satisfied: qiskit-ibmq-provider==0.19.2 in /usr/local/lib/python3.7/dist-packages (from qiskit[machine-learning]) (0.19.2)\n",
            "Collecting qiskit-machine-learning>=0.4.0\n",
            "  Downloading qiskit_machine_learning-0.4.0-py3-none-any.whl (126 kB)\n",
            "\u001b[K     |████████████████████████████████| 126 kB 4.4 MB/s \n",
            "\u001b[?25hRequirement already satisfied: scipy>=1.0 in /usr/local/lib/python3.7/dist-packages (from qiskit-aer==0.11.1->qiskit[machine-learning]) (1.7.3)\n",
            "Requirement already satisfied: numpy>=1.16.3 in /usr/local/lib/python3.7/dist-packages (from qiskit-aer==0.11.1->qiskit[machine-learning]) (1.21.6)\n",
            "Requirement already satisfied: python-dateutil>=2.8.0 in /usr/local/lib/python3.7/dist-packages (from qiskit-ibmq-provider==0.19.2->qiskit[machine-learning]) (2.8.2)\n",
            "Requirement already satisfied: websockets>=10.0 in /usr/local/lib/python3.7/dist-packages (from qiskit-ibmq-provider==0.19.2->qiskit[machine-learning]) (10.4)\n",
            "Requirement already satisfied: urllib3>=1.21.1 in /usr/local/lib/python3.7/dist-packages (from qiskit-ibmq-provider==0.19.2->qiskit[machine-learning]) (1.24.3)\n",
            "Requirement already satisfied: websocket-client>=1.0.1 in /usr/local/lib/python3.7/dist-packages (from qiskit-ibmq-provider==0.19.2->qiskit[machine-learning]) (1.4.2)\n",
            "Requirement already satisfied: requests>=2.19 in /usr/local/lib/python3.7/dist-packages (from qiskit-ibmq-provider==0.19.2->qiskit[machine-learning]) (2.23.0)\n",
            "Requirement already satisfied: requests-ntlm>=1.1.0 in /usr/local/lib/python3.7/dist-packages (from qiskit-ibmq-provider==0.19.2->qiskit[machine-learning]) (1.1.0)\n",
            "Requirement already satisfied: symengine>=0.9 in /usr/local/lib/python3.7/dist-packages (from qiskit-terra==0.22.2->qiskit[machine-learning]) (0.9.2)\n",
            "Requirement already satisfied: tweedledum<2.0,>=1.1 in /usr/local/lib/python3.7/dist-packages (from qiskit-terra==0.22.2->qiskit[machine-learning]) (1.1.1)\n",
            "Requirement already satisfied: psutil>=5 in /usr/local/lib/python3.7/dist-packages (from qiskit-terra==0.22.2->qiskit[machine-learning]) (5.4.8)\n",
            "Requirement already satisfied: sympy>=1.3 in /usr/local/lib/python3.7/dist-packages (from qiskit-terra==0.22.2->qiskit[machine-learning]) (1.7.1)\n",
            "Requirement already satisfied: stevedore>=3.0.0 in /usr/local/lib/python3.7/dist-packages (from qiskit-terra==0.22.2->qiskit[machine-learning]) (3.5.2)\n",
            "Requirement already satisfied: retworkx>=0.11.0 in /usr/local/lib/python3.7/dist-packages (from qiskit-terra==0.22.2->qiskit[machine-learning]) (0.12.0)\n",
            "Requirement already satisfied: shared-memory38 in /usr/local/lib/python3.7/dist-packages (from qiskit-terra==0.22.2->qiskit[machine-learning]) (0.1.2)\n",
            "Requirement already satisfied: ply>=3.10 in /usr/local/lib/python3.7/dist-packages (from qiskit-terra==0.22.2->qiskit[machine-learning]) (3.11)\n",
            "Requirement already satisfied: typing-extensions in /usr/local/lib/python3.7/dist-packages (from qiskit-terra==0.22.2->qiskit[machine-learning]) (4.1.1)\n",
            "Requirement already satisfied: dill>=0.3 in /usr/local/lib/python3.7/dist-packages (from qiskit-terra==0.22.2->qiskit[machine-learning]) (0.3.6)\n",
            "Requirement already satisfied: importlib-metadata<5.0 in /usr/local/lib/python3.7/dist-packages (from qiskit-terra==0.22.2->qiskit[machine-learning]) (4.13.0)\n",
            "Requirement already satisfied: zipp>=0.5 in /usr/local/lib/python3.7/dist-packages (from importlib-metadata<5.0->qiskit-terra==0.22.2->qiskit[machine-learning]) (3.10.0)\n",
            "Requirement already satisfied: six>=1.5 in /usr/local/lib/python3.7/dist-packages (from python-dateutil>=2.8.0->qiskit-ibmq-provider==0.19.2->qiskit[machine-learning]) (1.15.0)\n",
            "Requirement already satisfied: scikit-learn>=0.20.0 in /usr/local/lib/python3.7/dist-packages (from qiskit-machine-learning>=0.4.0->qiskit[machine-learning]) (1.0.2)\n",
            "Requirement already satisfied: setuptools>=40.1.0 in /usr/local/lib/python3.7/dist-packages (from qiskit-machine-learning>=0.4.0->qiskit[machine-learning]) (57.4.0)\n",
            "Requirement already satisfied: fastdtw in /usr/local/lib/python3.7/dist-packages (from qiskit-machine-learning>=0.4.0->qiskit[machine-learning]) (0.3.4)\n",
            "Requirement already satisfied: chardet<4,>=3.0.2 in /usr/local/lib/python3.7/dist-packages (from requests>=2.19->qiskit-ibmq-provider==0.19.2->qiskit[machine-learning]) (3.0.4)\n",
            "Requirement already satisfied: certifi>=2017.4.17 in /usr/local/lib/python3.7/dist-packages (from requests>=2.19->qiskit-ibmq-provider==0.19.2->qiskit[machine-learning]) (2022.9.24)\n",
            "Requirement already satisfied: idna<3,>=2.5 in /usr/local/lib/python3.7/dist-packages (from requests>=2.19->qiskit-ibmq-provider==0.19.2->qiskit[machine-learning]) (2.10)\n",
            "Requirement already satisfied: ntlm-auth>=1.0.2 in /usr/local/lib/python3.7/dist-packages (from requests-ntlm>=1.1.0->qiskit-ibmq-provider==0.19.2->qiskit[machine-learning]) (1.5.0)\n",
            "Requirement already satisfied: cryptography>=1.3 in /usr/local/lib/python3.7/dist-packages (from requests-ntlm>=1.1.0->qiskit-ibmq-provider==0.19.2->qiskit[machine-learning]) (38.0.3)\n",
            "Requirement already satisfied: cffi>=1.12 in /usr/local/lib/python3.7/dist-packages (from cryptography>=1.3->requests-ntlm>=1.1.0->qiskit-ibmq-provider==0.19.2->qiskit[machine-learning]) (1.15.1)\n",
            "Requirement already satisfied: pycparser in /usr/local/lib/python3.7/dist-packages (from cffi>=1.12->cryptography>=1.3->requests-ntlm>=1.1.0->qiskit-ibmq-provider==0.19.2->qiskit[machine-learning]) (2.21)\n",
            "Requirement already satisfied: rustworkx==0.12.0 in /usr/local/lib/python3.7/dist-packages (from retworkx>=0.11.0->qiskit-terra==0.22.2->qiskit[machine-learning]) (0.12.0)\n",
            "Requirement already satisfied: threadpoolctl>=2.0.0 in /usr/local/lib/python3.7/dist-packages (from scikit-learn>=0.20.0->qiskit-machine-learning>=0.4.0->qiskit[machine-learning]) (3.1.0)\n",
            "Requirement already satisfied: joblib>=0.11 in /usr/local/lib/python3.7/dist-packages (from scikit-learn>=0.20.0->qiskit-machine-learning>=0.4.0->qiskit[machine-learning]) (1.2.0)\n",
            "Requirement already satisfied: pbr!=2.1.0,>=2.0.0 in /usr/local/lib/python3.7/dist-packages (from stevedore>=3.0.0->qiskit-terra==0.22.2->qiskit[machine-learning]) (5.11.0)\n",
            "Requirement already satisfied: mpmath>=0.19 in /usr/local/lib/python3.7/dist-packages (from sympy>=1.3->qiskit-terra==0.22.2->qiskit[machine-learning]) (1.2.1)\n",
            "Installing collected packages: qiskit-machine-learning\n",
            "Successfully installed qiskit-machine-learning-0.4.0\n"
          ]
        }
      ]
    },
    {
      "cell_type": "code",
      "source": [
        "# number of qubits is equal to the number of features\n",
        "num_qubits = 2   #30 # 2\n",
        "\n",
        "# number of steps performed during the training procedure\n",
        "tau = 120  #100 \n",
        "\n",
        "# regularization parameter\n",
        "C = 1100 #1000 "
      ],
      "metadata": {
        "id": "NZIBZ295vg6Z"
      },
      "execution_count": null,
      "outputs": []
    },
    {
      "cell_type": "code",
      "source": [
        "from qiskit import BasicAer\n",
        "from qiskit.circuit.library import ZFeatureMap\n",
        "from qiskit.utils import QuantumInstance, algorithm_globals\n",
        "\n",
        "from qiskit_machine_learning.kernels import QuantumKernel\n",
        "\n",
        "algorithm_globals.random_seed = 12345\n",
        "\n",
        "pegasos_backend = QuantumInstance(\n",
        "    BasicAer.get_backend(\"statevector_simulator\"),\n",
        "    seed_simulator=algorithm_globals.random_seed,\n",
        "    seed_transpiler=algorithm_globals.random_seed,\n",
        ")\n",
        "\n",
        "feature_map = ZFeatureMap(feature_dimension=num_qubits, reps=1)\n",
        "\n",
        "qkernel = QuantumKernel(feature_map=feature_map, quantum_instance=pegasos_backend)"
      ],
      "metadata": {
        "id": "JVPH74pXvIRo"
      },
      "execution_count": null,
      "outputs": []
    },
    {
      "cell_type": "code",
      "source": [
        "from qiskit_machine_learning.algorithms import PegasosQSVC\n",
        "\n",
        "pegasos_qsvc = PegasosQSVC(quantum_kernel=qkernel, C=C, num_steps=tau)\n",
        "\n",
        "# training\n",
        "pegasos_qsvc.fit(train_features, train_labels)\n",
        "\n",
        "# testing\n",
        "pegasos_score = pegasos_qsvc.score(test_features, test_labels)\n",
        "print(f\"PegasosQSVC classification test score: {pegasos_score}\")"
      ],
      "metadata": {
        "colab": {
          "base_uri": "https://localhost:8080/"
        },
        "id": "KhhMDXXevWrY",
        "outputId": "f338dfe6-c13a-499b-d9c4-f363e2a3f53e"
      },
      "execution_count": null,
      "outputs": [
        {
          "output_type": "stream",
          "name": "stdout",
          "text": [
            "PegasosQSVC classification test score: 0.9300699300699301\n"
          ]
        }
      ]
    },
    {
      "cell_type": "code",
      "source": [
        "grid_step = 0.2\n",
        "margin = 0.2\n",
        "grid_x, grid_y = np.meshgrid( np.arange(-margin, np.pi + margin, grid_step), np.arange(-margin, np.pi + margin, grid_step) )"
      ],
      "metadata": {
        "id": "W68gp2qivmUo"
      },
      "execution_count": null,
      "outputs": []
    },
    {
      "cell_type": "code",
      "source": [
        "meshgrid_features = np.column_stack((grid_x.ravel(), grid_y.ravel()))\n",
        "meshgrid_colors = pegasos_qsvc.predict(meshgrid_features)"
      ],
      "metadata": {
        "id": "3E8uIDZdvrbV"
      },
      "execution_count": null,
      "outputs": []
    },
    {
      "cell_type": "code",
      "source": [
        "import matplotlib.pyplot as plt\n",
        "\n",
        "plt.figure(figsize=(5, 5))\n",
        "meshgrid_colors = meshgrid_colors.reshape(grid_x.shape)\n",
        "plt.pcolormesh(grid_x, grid_y, meshgrid_colors, cmap=\"RdBu\", shading=\"auto\")\n",
        "\n",
        "plt.scatter(\n",
        "    train_features[:, 0][train_labels == 0],\n",
        "    train_features[:, 1][train_labels == 0],\n",
        "    marker=\"s\",\n",
        "    facecolors=\"w\",\n",
        "    edgecolors=\"r\",\n",
        "    label=\"A train\",\n",
        ")\n",
        "plt.scatter(\n",
        "    train_features[:, 0][train_labels == 1],\n",
        "    train_features[:, 1][train_labels == 1],\n",
        "    marker=\"o\",\n",
        "    facecolors=\"w\",\n",
        "    edgecolors=\"b\",\n",
        "    label=\"B train\",\n",
        ")\n",
        "\n",
        "plt.scatter(\n",
        "    test_features[:, 0][test_labels == 0],\n",
        "    test_features[:, 1][test_labels == 0],\n",
        "    marker=\"s\",\n",
        "    facecolors=\"r\",\n",
        "    edgecolors=\"r\",\n",
        "    label=\"A test\",\n",
        ")\n",
        "plt.scatter(\n",
        "    test_features[:, 0][test_labels == 1],\n",
        "    test_features[:, 1][test_labels == 1],\n",
        "    marker=\"o\",\n",
        "    facecolors=\"b\",\n",
        "    edgecolors=\"b\",\n",
        "    label=\"B test\",\n",
        ")\n",
        "\n",
        "plt.legend(bbox_to_anchor=(1.05, 1), loc=\"upper left\", borderaxespad=0.0)\n",
        "plt.title(\"Pegasos Classification\")\n",
        "plt.show()"
      ],
      "metadata": {
        "colab": {
          "base_uri": "https://localhost:8080/",
          "height": 336
        },
        "id": "MnDak5ZsvuL7",
        "outputId": "e6161b11-3f7d-464b-ff27-267307cab940"
      },
      "execution_count": null,
      "outputs": [
        {
          "output_type": "display_data",
          "data": {
            "text/plain": [
              "<Figure size 360x360 with 1 Axes>"
            ],
            "image/png": "[encoded data removed]"
          },
          "metadata": {
            "needs_background": "light"
          }
        }
      ]
    },
    {
      "cell_type": "code",
      "source": [
        "import qiskit.tools.jupyter\n",
        "\n",
        "%qiskit_version_table\n",
        "%qiskit_copyright"
      ],
      "metadata": {
        "colab": {
          "base_uri": "https://localhost:8080/",
          "height": 567
        },
        "id": "usMBQ2Ljvyvd",
        "outputId": "39b75ac4-6e0a-4178-f8c3-5b4285e76e10"
      },
      "execution_count": null,
      "outputs": [
        {
          "output_type": "display_data",
          "data": {
            "text/plain": [
              "<IPython.core.display.HTML object>"
            ],
            "text/html": [
              "<h3>Version Information</h3><table><tr><th>Qiskit Software</th><th>Version</th></tr><tr><td><code>qiskit-terra</code></td><td>0.22.0</td></tr><tr><td><code>qiskit-aer</code></td><td>0.11.0</td></tr><tr><td><code>qiskit-ibmq-provider</code></td><td>0.19.2</td></tr><tr><td><code>qiskit</code></td><td>0.39.0</td></tr><tr><td><code>qiskit-machine-learning</code></td><td>0.4.0</td></tr><tr><th>System information</th></tr><tr><td>Python version</td><td>3.7.15</td></tr><tr><td>Python compiler</td><td>GCC 7.5.0</td></tr><tr><td>Python build</td><td>default, Oct 12 2022 19:14:55</td></tr><tr><td>OS</td><td>Linux</td></tr><tr><td>CPUs</td><td>1</td></tr><tr><td>Memory (Gb)</td><td>12.681224822998047</td></tr><tr><td colspan='2'>Tue Nov 01 10:32:19 2022 UTC</td></tr></table>"
            ]
          },
          "metadata": {}
        },
        {
          "output_type": "display_data",
          "data": {
            "text/plain": [
              "<IPython.core.display.HTML object>"
            ],
            "text/html": [
              "<div style='width: 100%; background-color:#d5d9e0;padding-left: 10px; padding-bottom: 10px; padding-right: 10px; padding-top: 5px'><h3>This code is a part of Qiskit</h3><p>&copy; Copyright IBM 2017, 2022.</p><p>This code is licensed under the Apache License, Version 2.0. You may<br>obtain a copy of this license in the LICENSE.txt file in the root directory<br> of this source tree or at http://www.apache.org/licenses/LICENSE-2.0.<p>Any modifications or derivative works of this code must retain this<br>copyright notice, and modified files need to carry a notice indicating<br>that they have been altered from the originals.</p></div>"
            ]
          },
          "metadata": {}
        }
      ]
    },
    {
      "cell_type": "code",
      "source": [
        "#the second application "
      ],
      "metadata": {
        "id": "oEpX2TeHv8i-"
      },
      "execution_count": null,
      "outputs": []
    },
    {
      "cell_type": "code",
      "source": [
        "# External imports\n",
        "from pylab import cm\n",
        "import pandas as pd\n",
        "from sklearn import metrics\n",
        "import numpy as np\n",
        "import matplotlib.pyplot as plt\n",
        "\n",
        "%matplotlib inline\n",
        "\n",
        "# Qiskit imports\n",
        "from qiskit import QuantumCircuit\n",
        "from qiskit.circuit import ParameterVector\n",
        "from qiskit.providers.aer import AerSimulator\n",
        "from qiskit.visualization import circuit_drawer\n",
        "from qiskit.algorithms.optimizers import SPSA\n",
        "from qiskit.circuit.library import ZZFeatureMap\n",
        "from qiskit_machine_learning.kernels import QuantumKernel\n",
        "from qiskit_machine_learning.kernels.algorithms import QuantumKernelTrainer\n",
        "from qiskit_machine_learning.algorithms import QSVC\n",
        "from qiskit_machine_learning.datasets import ad_hoc_data\n",
        "\n",
        "\n",
        "class QKTCallback:\n",
        "    \"\"\"Callback wrapper class.\"\"\"\n",
        "\n",
        "    def __init__(self) -> None:\n",
        "        self._data = [[] for i in range(5)]\n",
        "\n",
        "    def callback(self, x0, x1=None, x2=None, x3=None, x4=None):\n",
        "        \"\"\"\n",
        "        Args:\n",
        "            x0: number of function evaluations\n",
        "            x1: the parameters\n",
        "            x2: the function value\n",
        "            x3: the stepsize\n",
        "            x4: whether the step was accepted\n",
        "        \"\"\"\n",
        "        self._data[0].append(x0)\n",
        "        self._data[1].append(x1)\n",
        "        self._data[2].append(x2)\n",
        "        self._data[3].append(x3)\n",
        "        self._data[4].append(x4)\n",
        "\n",
        "    def get_callback_data(self):\n",
        "        return self._data\n",
        "\n",
        "    def clear_callback_data(self):\n",
        "        self._data = [[] for i in range(5)]"
      ],
      "metadata": {
        "id": "fjzYBflwRHSK"
      },
      "execution_count": null,
      "outputs": []
    },
    {
      "cell_type": "code",
      "source": [
        "adhoc_dimension = 2\n",
        "\n",
        "#X_train, y_train, X_test, y_test, adhoc_total = ad_hoc_data(training_size=20 ,test_size=5 ,n=adhoc_dimension ,gap=0.3 ,plot_data=False ,one_hot=False ,include_sample_total=True,)\n",
        "\n",
        "print(X_train[np.where(y_train[:] == 0), 0])\n",
        "print(X_train[np.where(y_train[:] == 0), 1])\n",
        "X_train, y_train, X_test, y_test, adhoc_total = train_features, test_features, train_labels, test_labels , cancer['data']\n",
        "\n",
        "\n",
        "plt.figure(figsize=(5, 5))\n",
        "plt.ylim(0, 2 * np.pi)\n",
        "plt.xlim(0, 2 * np.pi)\n",
        "plt.imshow(\n",
        "    np.asmatrix(adhoc_total).T,\n",
        "    interpolation=\"nearest\",\n",
        "    origin=\"lower\",\n",
        "    cmap=\"RdBu\",\n",
        "    extent=[0, 2 * np.pi, 0, 2 * np.pi],\n",
        ")\n",
        "\n",
        "\n",
        "#plt.scatter(\n",
        "#    X_train[np.where(y_train[:] == 0), 0],\n",
        "#    X_train[np.where(y_train[:] == 0), 1],\n",
        "#    marker=\"s\",\n",
        "#    facecolors=\"w\",\n",
        "#    edgecolors=\"b\",\n",
        "#    label=\"A train\",\n",
        "#)\n",
        "\n",
        "plt.scatter(\n",
        "    X_train[np.where(y_train[:] == 0), 0],\n",
        "    X_train[np.where(y_train[:] == 0), 1],\n",
        "    marker=\"s\",\n",
        "    facecolors=\"w\",\n",
        "    edgecolors=\"b\",\n",
        "    label=\"A train\",\n",
        ")\n",
        "plt.scatter(\n",
        "    X_train[np.where(y_train[:] == 1), 0],\n",
        "    X_train[np.where(y_train[:] == 1), 1],\n",
        "    marker=\"o\",\n",
        "    facecolors=\"w\",\n",
        "    edgecolors=\"r\",\n",
        "    label=\"B train\",\n",
        ")\n",
        "plt.scatter(\n",
        "    X_test[np.where(y_test[:] == 0), 0],\n",
        "    X_test[np.where(y_test[:] == 0), 1],\n",
        "    marker=\"s\",\n",
        "    facecolors=\"b\",\n",
        "    edgecolors=\"w\",\n",
        "    label=\"A test\",\n",
        ")\n",
        "plt.scatter(\n",
        "    X_test[np.where(y_test[:] == 1), 0],\n",
        "    X_test[np.where(y_test[:] == 1), 1],\n",
        "    marker=\"o\",\n",
        "    facecolors=\"r\",\n",
        "    edgecolors=\"w\",\n",
        "    label=\"B test\",\n",
        ")\n",
        "\n",
        "plt.legend(bbox_to_anchor=(1.05, 1), loc=\"upper left\", borderaxespad=0.0)\n",
        "plt.title(\"Ad hoc dataset for classification\")\n",
        "\n",
        "plt.show()"
      ],
      "metadata": {
        "colab": {
          "base_uri": "https://localhost:8080/",
          "height": 696
        },
        "id": "B4uxU16nRMpD",
        "outputId": "5b033e0d-42f5-405f-8bc9-c4a7006a494a"
      },
      "execution_count": null,
      "outputs": [
        {
          "output_type": "stream",
          "name": "stdout",
          "text": [
            "[[0.75398224 5.71769863 6.09468975 0.12566371 5.90619419 1.38230077\n",
            "  4.77522083 0.50265482 0.25132741 3.0787608  2.38761042 1.00530965\n",
            "  4.33539786 0.81681409 3.01592895 1.69646003 1.19380521 4.0212386\n",
            "  0.81681409 2.32477856]]\n",
            "[[5.40353936 2.0106193  5.02654825 1.0681415  1.00530965 5.59203492\n",
            "  6.22035345 1.75929189 2.136283   1.0681415  0.43982297 5.27787566\n",
            "  2.26194671 2.76460154 5.40353936 5.96902604 4.0212386  0.37699112\n",
            "  5.46637122 4.0212386 ]]\n"
          ]
        },
        {
          "output_type": "error",
          "ename": "IndexError",
          "evalue": "ignored",
          "traceback": [
            "\u001b[0;31m---------------------------------------------------------------------------\u001b[0m",
            "\u001b[0;31mIndexError\u001b[0m                                Traceback (most recent call last)",
            "\u001b[0;32m<ipython-input-22-a32a1ac73fc6>\u001b[0m in \u001b[0;36m<module>\u001b[0;34m\u001b[0m\n\u001b[1;32m     46\u001b[0m )\n\u001b[1;32m     47\u001b[0m plt.scatter(\n\u001b[0;32m---> 48\u001b[0;31m     \u001b[0mX_test\u001b[0m\u001b[0;34m[\u001b[0m\u001b[0mnp\u001b[0m\u001b[0;34m.\u001b[0m\u001b[0mwhere\u001b[0m\u001b[0;34m(\u001b[0m\u001b[0my_test\u001b[0m\u001b[0;34m[\u001b[0m\u001b[0;34m:\u001b[0m\u001b[0;34m]\u001b[0m \u001b[0;34m==\u001b[0m \u001b[0;36m0\u001b[0m\u001b[0;34m)\u001b[0m\u001b[0;34m,\u001b[0m \u001b[0;36m0\u001b[0m\u001b[0;34m]\u001b[0m\u001b[0;34m,\u001b[0m\u001b[0;34m\u001b[0m\u001b[0;34m\u001b[0m\u001b[0m\n\u001b[0m\u001b[1;32m     49\u001b[0m     \u001b[0mX_test\u001b[0m\u001b[0;34m[\u001b[0m\u001b[0mnp\u001b[0m\u001b[0;34m.\u001b[0m\u001b[0mwhere\u001b[0m\u001b[0;34m(\u001b[0m\u001b[0my_test\u001b[0m\u001b[0;34m[\u001b[0m\u001b[0;34m:\u001b[0m\u001b[0;34m]\u001b[0m \u001b[0;34m==\u001b[0m \u001b[0;36m0\u001b[0m\u001b[0;34m)\u001b[0m\u001b[0;34m,\u001b[0m \u001b[0;36m1\u001b[0m\u001b[0;34m]\u001b[0m\u001b[0;34m,\u001b[0m\u001b[0;34m\u001b[0m\u001b[0;34m\u001b[0m\u001b[0m\n\u001b[1;32m     50\u001b[0m     \u001b[0mmarker\u001b[0m\u001b[0;34m=\u001b[0m\u001b[0;34m\"s\"\u001b[0m\u001b[0;34m,\u001b[0m\u001b[0;34m\u001b[0m\u001b[0;34m\u001b[0m\u001b[0m\n",
            "\u001b[0;31mIndexError\u001b[0m: too many indices for array: array is 1-dimensional, but 2 were indexed"
          ]
        },
        {
          "output_type": "display_data",
          "data": {
            "text/plain": [
              "<Figure size 360x360 with 1 Axes>"
            ],
            "image/png": "[encoded data removed]"
          },
          "metadata": {
            "needs_background": "light"
          }
        }
      ]
    },
    {
      "cell_type": "code",
      "source": [],
      "metadata": {
        "id": "wbfjLyM9kxPw"
      },
      "execution_count": null,
      "outputs": []
    },
    {
      "cell_type": "code",
      "source": [
        "from qiskit import IBMQ\n",
        "\n",
        "IBMQ.save_account(\"7f7810855b472240e1e33d3caab8a942c7c5d868f4a15e1330a69e3447ff60b1e17207ef3ba66f4f6a6cd10a302f12c411951b0773ced76f951cd21049b653ce\")"
      ],
      "metadata": {
        "id": "eU92xbdLN3cF"
      },
      "execution_count": null,
      "outputs": []
    },
    {
      "cell_type": "code",
      "source": [
        "IBMQ.load_account()"
      ],
      "metadata": {
        "colab": {
          "base_uri": "https://localhost:8080/"
        },
        "id": "mf-RDSl0Qrak",
        "outputId": "971e2695-13a2-4640-fb83-1760b8d4de86"
      },
      "execution_count": null,
      "outputs": [
        {
          "output_type": "execute_result",
          "data": {
            "text/plain": [
              "<AccountProvider for IBMQ(hub='ibm-q', group='open', project='main')>"
            ]
          },
          "metadata": {},
          "execution_count": 61
        }
      ]
    },
    {
      "cell_type": "code",
      "source": [
        "##get the back end\n",
        "for backend in provider.backends():\n",
        "  try:\n",
        "    qubit_count = len(backend.properties().qubits)\n",
        "  except:\n",
        "    qubit_count = \"Simulated\"\n",
        "  print(f\"{backend.name()} has {backend.status().pending_jobs} queued and {qubit_count} qubits \")\n"
      ],
      "metadata": {
        "colab": {
          "base_uri": "https://localhost:8080/"
        },
        "id": "ai1_k5eQRaaH",
        "outputId": "e698d108-a06e-453f-c4e1-5c591c4d6ca9"
      },
      "execution_count": null,
      "outputs": [
        {
          "output_type": "stream",
          "name": "stdout",
          "text": [
            "ibmq_qasm_simulator has 1 queued and Simulated qubits \n",
            "ibmq_lima has 469 queued and 5 qubits \n",
            "ibmq_belem has 56 queued and 5 qubits \n",
            "ibmq_quito has 46 queued and 5 qubits \n",
            "simulator_statevector has 1 queued and Simulated qubits \n",
            "simulator_mps has 0 queued and Simulated qubits \n",
            "simulator_extended_stabilizer has 0 queued and Simulated qubits \n",
            "simulator_stabilizer has 0 queued and Simulated qubits \n",
            "ibmq_manila has 72 queued and 5 qubits \n",
            "ibm_nairobi has 414 queued and 7 qubits \n",
            "ibm_oslo has 83 queued and 7 qubits \n"
          ]
        }
      ]
    },
    {
      "cell_type": "code",
      "source": [
        "provider = IBMQ.get_provider('ibm-q')"
      ],
      "metadata": {
        "id": "7gGxpriDRJrg"
      },
      "execution_count": null,
      "outputs": []
    }
  ]
}